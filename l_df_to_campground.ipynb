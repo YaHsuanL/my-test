{
 "cells": [
  {
   "cell_type": "code",
   "execution_count": null,
   "id": "8ada9853",
   "metadata": {},
   "outputs": [],
   "source": [
    "#目標:\n",
    "# 將 easycamp_reviews_cleaned.json 中的滿意度資料，\n",
    "# 透過比對 campground_merge.營地名稱，取得對應的 營地ID，\n",
    "# 更新 campground 資料表中同一個 ID 的評分欄位。"
   ]
  },
  {
   "cell_type": "code",
   "execution_count": 1,
   "id": "b24b26e0",
   "metadata": {},
   "outputs": [
    {
     "data": {
      "text/plain": [
       "'c:\\\\TJR101_03_Project\\\\connect'"
      ]
     },
     "execution_count": 1,
     "metadata": {},
     "output_type": "execute_result"
    }
   ],
   "source": [
    "import os\n",
    "os.getcwd()"
   ]
  },
  {
   "cell_type": "code",
   "execution_count": 1,
   "id": "1fa975cd",
   "metadata": {},
   "outputs": [],
   "source": [
    "#將專案的根目錄加入到 sys.path\n",
    "import sys\n",
    "import os\n",
    "\n",
    "sys.path.append(os.path.abspath(os.path.join(os.getcwd(), '..')))\n"
   ]
  },
  {
   "cell_type": "code",
   "execution_count": 2,
   "id": "6bed2c7c",
   "metadata": {
    "lines_to_next_cell": 2
   },
   "outputs": [
    {
     "name": "stdout",
     "output_type": "stream",
     "text": [
      "name               object\n",
      "traffic_rating      Int64\n",
      "bathroom_rating     Int64\n",
      "view_rating         Int64\n",
      "service_rating      Int64\n",
      "facility_rating     Int64\n",
      "dtype: object\n"
     ]
    }
   ],
   "source": [
    "import pandas as pd\n",
    "import json\n",
    "import pymysql\n",
    "#引入將json轉df的函式\n",
    "from transform.campground_table_rating import create_rating_df"
   ]
  },
  {
   "cell_type": "code",
   "execution_count": 3,
   "id": "774cf042",
   "metadata": {},
   "outputs": [
    {
     "name": "stdout",
     "output_type": "stream",
     "text": [
      "name               object\n",
      "traffic_rating      Int64\n",
      "bathroom_rating     Int64\n",
      "view_rating         Int64\n",
      "service_rating      Int64\n",
      "facility_rating     Int64\n",
      "dtype: object\n"
     ]
    }
   ],
   "source": [
    "rating_df = create_rating_df()"
   ]
  },
  {
   "cell_type": "code",
   "execution_count": 4,
   "id": "3e8c1da3",
   "metadata": {},
   "outputs": [
    {
     "data": {
      "text/plain": [
       "name               object\n",
       "traffic_rating      Int64\n",
       "bathroom_rating     Int64\n",
       "view_rating         Int64\n",
       "service_rating      Int64\n",
       "facility_rating     Int64\n",
       "dtype: object"
      ]
     },
     "execution_count": 4,
     "metadata": {},
     "output_type": "execute_result"
    }
   ],
   "source": [
    "rating_df.dtypes"
   ]
  },
  {
   "cell_type": "code",
   "execution_count": 5,
   "id": "2025010a",
   "metadata": {},
   "outputs": [],
   "source": [
    "import pymysql\n",
    "import datetime"
   ]
  },
  {
   "cell_type": "code",
   "execution_count": null,
   "id": "c34857e6",
   "metadata": {},
   "outputs": [],
   "source": [
    "# 連線到 MySQL \n",
    "conn = pymysql.connect(\n",
    "        host=\"localhost\", \n",
    "        user=\"root\", \n",
    "        password=\"your_password\", \n",
    "        database=\"easycamp_db\"\n",
    "    )\n",
    "    \n",
    "cursor = conn.cursor()"
   ]
  },
  {
   "cell_type": "code",
   "execution_count": 7,
   "id": "2336f8ae",
   "metadata": {},
   "outputs": [
    {
     "name": "stdout",
     "output_type": "stream",
     "text": [
      "❗找不到營地：牧匠露營區\n"
     ]
    }
   ],
   "source": [
    "for _, row in rating_df.iterrows():\n",
    "    name = row['name']\n",
    "     # 轉換 <NA> 成 None，MySQL 才能識別\n",
    "    ratings = tuple(\n",
    "        val if pd.notna(val) else None\n",
    "        for val in (\n",
    "            row['traffic_rating'],\n",
    "            row['bathroom_rating'],\n",
    "            row['view_rating'],\n",
    "            row['service_rating'],\n",
    "            row['facility_rating']\n",
    "        )\n",
    "    )\n",
    "    # 找到對應的 campground_id\n",
    "    cursor.execute(\"SELECT campground_id FROM campground_merge WHERE camping_site_name = %s\", (name,))\n",
    "    result = cursor.fetchone()\n",
    "\n",
    "    if result:\n",
    "        campground_id = result[0]\n",
    "\n",
    "        # 更新 campground 表格\n",
    "        cursor.execute(\"\"\"\n",
    "            UPDATE campground\n",
    "            SET traffic_rating = %s,\n",
    "                bathroom_rating = %s,\n",
    "                view_rating = %s,\n",
    "                service_rating = %s,\n",
    "                facility_rating = %s\n",
    "            WHERE campground_id = %s\n",
    "        \"\"\", ratings + (campground_id,))\n",
    "    else:\n",
    "        print(f\"❗找不到營地：{name}\")"
   ]
  },
  {
   "cell_type": "code",
   "execution_count": 8,
   "id": "6e95b21c",
   "metadata": {},
   "outputs": [],
   "source": [
    "# 提交變更\n",
    "conn.commit()\n",
    "cursor.close()\n",
    "conn.close()"
   ]
  }
 ],
 "metadata": {
  "jupytext": {
   "cell_metadata_filter": "-all",
   "main_language": "python",
   "notebook_metadata_filter": "-all"
  },
  "kernelspec": {
   "display_name": ".venv",
   "language": "python",
   "name": "python3"
  },
  "language_info": {
   "codemirror_mode": {
    "name": "ipython",
    "version": 3
   },
   "file_extension": ".py",
   "mimetype": "text/x-python",
   "name": "python",
   "nbconvert_exporter": "python",
   "pygments_lexer": "ipython3",
   "version": "3.13.2"
  }
 },
 "nbformat": 4,
 "nbformat_minor": 5
}
